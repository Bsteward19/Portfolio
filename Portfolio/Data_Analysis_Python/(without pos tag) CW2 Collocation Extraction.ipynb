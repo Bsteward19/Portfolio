{
 "cells": [
  {
   "cell_type": "code",
   "execution_count": 13,
   "metadata": {},
   "outputs": [
    {
     "name": "stdout",
     "output_type": "stream",
     "text": [
      "[('**SPOILER', 'ALERT**I'), ('ALERT**I', \"'ll\"), (\"'ll\", 'bet'), ('bet', 'just'), ('just', 'about'), ('about', 'everybody'), ('everybody', 'has'), ('has', 'seen'), ('seen', '``'), ('``', 'Frosty'), ('Frosty', 'the'), ('the', 'Snowman'), ('Snowman', \"''\"), (\"''\", 'at'), ('at', 'one'), ('one', 'time'), ('time', 'or'), ('or', 'another'), ('another', ','), (',', 'and'), ('and', 'I'), ('I', 'can'), ('can', 'see'), ('see', 'why'), ('why', 'it'), ('it', \"'s\"), (\"'s\", 'a'), ('a', 'classic'), ('classic', '.'), ('.', 'The'), ('The', 'animation'), ('animation', 'may'), ('may', 'not'), ('not', 'exactly'), ('exactly', 'be'), ('be', 'top-notch'), ('top-notch', '('), ('(', 'let'), ('let', \"'s\"), (\"'s\", 'face'), ('face', 'it'), ('it', ','), (',', 'Disney'), ('Disney', \"'s\"), (\"'s\", 'animation'), ('animation', 'was'), ('was', 'far'), ('far', 'much'), ('much', 'better'), ('better', ';'), (';', 'even'), ('even', 'in'), ('in', 'those'), ('those', 'days'), ('days', ')'), (')', ','), (',', 'but'), ('but', 'that'), ('that', \"'s\"), (\"'s\", 'not'), ('not', 'really'), ('really', 'what'), ('what', 'matters'), ('matters', '.'), ('.', 'What'), ('What', 'really'), ('really', 'matters'), ('matters', 'is'), ('is', 'the'), ('the', 'music'), ('music', ','), (',', 'the'), ('the', 'acting'), ('acting', ','), (',', 'and'), ('and', 'the'), ('the', 'story'), ('story', 'behind'), ('behind', 'the'), ('the', 'animation.It'), ('animation.It', \"'s\"), (\"'s\", 'the'), ('the', 'day'), ('day', 'before'), ('before', 'Christmas'), ('Christmas', ','), (',', 'and'), ('and', 'a'), ('a', 'bunch'), ('bunch', 'of'), ('of', 'children'), ('children', 'get'), ('get', 'together'), ('together', 'to'), ('to', 'make'), ('make', 'one'), ('one', 'big'), ('big', 'snowman'), ('snowman', '.'), ('.', 'After'), ('After', 'some'), ('some', 'debating'), ('debating', ','), (',', 'they'), ('they', 'all'), ('all', 'agree'), ('agree', 'on'), ('on', 'the'), ('the', 'name'), ('name', '``'), ('``', 'Frosty'), ('Frosty', \"''\"), (\"''\", '.'), ('.', 'They'), ('They', 'top'), ('top', 'their'), ('their', 'wintry'), ('wintry', 'creation'), ('creation', 'off'), ('off', 'with'), ('with', 'an'), ('an', 'old'), ('old', 'top'), ('top', 'hat'), ('hat', 'discarded'), ('discarded', 'by'), ('by', 'the'), ('the', 'magician'), ('magician', 'Professor'), ('Professor', 'Hinkle'), ('Hinkle', ','), (',', 'who'), ('who', 'is'), ('is', 'just'), ('just', 'about'), ('about', 'the'), ('the', 'worst'), ('worst', 'magician'), ('magician', 'in'), ('in', 'the'), ('the', 'world'), ('world', '.'), ('.', '('), ('(', 'He'), ('He', 'ca'), ('ca', \"n't\"), (\"n't\", 'even'), ('even', 'perform'), ('perform', 'a'), ('a', 'simple'), ('simple', 'card'), ('card', 'trick'), ('trick', ','), (',', 'or'), ('or', 'get'), ('get', 'a'), ('a', 'simple'), ('simple', 'rabbit'), ('rabbit', 'to'), ('to', 'come'), ('come', 'out'), ('out', 'of'), ('of', 'his'), ('his', 'hat'), ('hat', '.'), ('.', ')'), (')', 'The'), ('The', 'very'), ('very', 'second'), ('second', 'the'), ('the', 'hat'), ('hat', 'touches'), ('touches', 'Frosty'), ('Frosty', \"'s\"), (\"'s\", 'head'), ('head', ','), (',', 'the'), ('the', 'snowman'), ('snowman', 'instantly'), ('instantly', 'comes'), ('comes', 'to'), ('to', 'life'), ('life', '.'), ('.', 'When'), ('When', 'Professor'), ('Professor', 'Hinkle'), ('Hinkle', 'sees'), ('sees', 'that'), ('that', 'there'), ('there', 'is'), ('is', 'some'), ('some', 'magic'), ('magic', 'in'), ('in', 'his'), ('his', 'hat'), ('hat', 'after'), ('after', 'all'), ('all', ','), (',', 'he'), ('he', 'decides'), ('decides', 'he'), ('he', 'wants'), ('wants', 'the'), ('the', 'hat'), ('hat', 'back'), ('back', '.'), ('.', 'The'), ('The', 'children'), ('children', 'are'), ('are', 'simply'), ('simply', 'delighted'), ('delighted', 'to'), ('to', 'be'), ('be', 'able'), ('able', 'to'), ('to', 'talk'), ('talk', 'to'), ('to', 'and'), ('and', 'play'), ('play', 'with'), ('with', 'their'), ('their', 'new'), ('new', 'friend'), ('friend', ','), (',', 'but'), ('but', 'when'), ('when', 'the'), ('the', 'temperature'), ('temperature', 'starts'), ('starts', 'creeping'), ('creeping', 'up'), ('up', ','), (',', 'Frosty'), ('Frosty', 'realizes'), ('realizes', 'he'), ('he', 'must'), ('must', 'go'), ('go', 'to'), ('to', 'some'), ('some', 'place'), ('place', 'where'), ('where', 'he'), ('he', 'will'), ('will', 'never'), ('never', 'melt'), ('melt', '.'), ('.', 'And'), ('And', 'what'), ('what', 'better'), ('better', 'place'), ('place', 'to'), ('to', 'not'), ('not', 'melt'), ('melt', 'than'), ('than', 'the'), ('the', 'North'), ('North', 'Pole'), ('Pole', '?'), ('?', 'So'), ('So', ','), (',', 'the'), ('the', 'children'), ('children', 'take'), ('take', 'Frosty'), ('Frosty', 'downtown'), ('downtown', 'to'), ('to', 'the'), ('the', 'railroad'), ('railroad', 'station'), ('station', ','), (',', 'and'), ('and', 'he'), ('he', 'and'), ('and', 'one'), ('one', 'of'), ('of', 'the'), ('the', 'children'), ('children', '('), ('(', 'a'), ('a', 'small'), ('small', 'girl'), ('girl', 'named'), ('named', 'Karen'), ('Karen', ')'), (')', 'secretly'), ('secretly', 'stow'), ('stow', 'away'), ('away', 'on'), ('on', 'a'), ('a', 'refrigerated'), ('refrigerated', 'box'), ('box', 'car'), ('car', 'on'), ('on', 'a'), ('a', 'train'), ('train', 'heading'), ('heading', 'north'), ('north', '.'), ('.', 'Now'), ('Now', ','), (',', 'a'), ('a', 'refrigerated'), ('refrigerated', 'box'), ('box', 'car'), ('car', 'really'), ('really', 'is'), ('is', 'a'), ('a', 'wonderful'), ('wonderful', 'place'), ('place', 'to'), ('to', 'travel'), ('travel', 'in'), ('in', '--'), ('--', 'but'), ('but', 'only'), ('only', 'if'), ('if', 'one'), ('one', 'is'), ('is', 'a'), ('a', 'snowman'), ('snowman', '.'), ('.', 'For'), ('For', 'Karen'), ('Karen', ','), (',', 'who'), ('who', 'is'), ('is', 'made'), ('made', 'of'), ('of', 'human'), ('human', 'flesh'), ('flesh', ','), (',', 'it'), ('it', 'does'), ('does', \"n't\"), (\"n't\", 'take'), ('take', 'long'), ('long', 'at'), ('at', 'all'), ('all', 'for'), ('for', 'her'), ('her', 'to'), ('to', 'start'), ('start', 'shivering'), ('shivering', 'and'), ('and', 'sneezing'), ('sneezing', 'with'), ('with', 'cold'), ('cold', '.'), ('.', 'Frosty'), ('Frosty', 'knows'), ('knows', 'that'), ('that', 'Karen'), ('Karen', 'ca'), ('ca', \"n't\"), (\"n't\", 'stay'), ('stay', 'in'), ('in', 'the'), ('the', 'car'), ('car', 'for'), ('for', 'much'), ('much', 'longer'), ('longer', ','), (',', 'so'), ('so', 'he'), ('he', 'quickly'), ('quickly', 'gets'), ('gets', 'the'), ('the', 'both'), ('both', 'of'), ('of', 'them'), ('them', 'out'), ('out', 'the'), ('the', 'second'), ('second', 'the'), ('the', 'train'), ('train', 'comes'), ('comes', 'to'), ('to', 'a'), ('a', 'rest'), ('rest', 'stop.But'), ('stop.But', 'even'), ('even', 'after'), ('after', 'they'), ('they', \"'re\"), (\"'re\", 'out'), ('out', 'of'), ('of', 'the'), ('the', 'car'), ('car', ','), (',', 'it'), ('it', 'still'), ('still', 'does'), ('does', 'not'), ('not', 'do'), ('do', 'Karen'), ('Karen', 'any'), ('any', 'good'), ('good', ','), (',', 'for'), ('for', 'they'), ('they', 'are'), ('are', 'now'), ('now', 'out'), ('out', 'in'), ('in', 'the'), ('the', 'middle'), ('middle', 'of'), ('of', 'the'), ('the', 'wilderness'), ('wilderness', ','), (',', 'where'), ('where', 'it'), ('it', 'is'), ('is', 'bitterly'), ('bitterly', 'cold'), ('cold', '.'), ('.', 'Frosty'), ('Frosty', 'realizes'), ('realizes', 'that'), ('that', 'he'), ('he', 'must'), ('must', 'get'), ('get', 'someone'), ('someone', 'to'), ('to', 'help'), ('help', 'them'), ('them', 'out'), ('out', '--'), ('--', 'someone'), ('someone', 'who'), ('who', 'can'), ('can', 'get'), ('get', 'Karen'), ('Karen', 'home'), ('home', 'before'), ('before', 'she'), ('she', 'freezes'), ('freezes', 'to'), ('to', 'death'), ('death', ','), (',', 'and'), ('and', 'him'), ('him', 'to'), ('to', 'the'), ('the', 'North'), ('North', 'Pole'), ('Pole', 'before'), ('before', 'he'), ('he', 'melts'), ('melts', 'into'), ('into', 'a'), ('a', 'puddle'), ('puddle', '.'), ('.', 'Hocus'), ('Hocus', 'Pocus'), ('Pocus', '('), ('(', 'Professor'), ('Professor', 'Hinkle'), ('Hinkle', \"'s\"), (\"'s\", 'pet'), ('pet', 'rabbit'), ('rabbit', ','), (',', 'who'), ('who', 'decides'), ('decides', 'to'), ('to', 'tag'), ('tag', 'along'), ('along', 'with'), ('with', 'Frosty'), ('Frosty', 'and'), ('and', 'Karen'), ('Karen', ')'), (')', 'suggests'), ('suggests', 'they'), ('they', 'get'), ('get', 'Santa'), ('Santa', 'Claus'), ('Claus', 'to'), ('to', 'assist'), ('assist', 'them'), ('them', '.'), ('.', 'But'), ('But', 'Santa'), ('Santa', 'does'), ('does', \"n't\"), (\"n't\", 'show'), ('show', 'up'), ('up', 'until'), ('until', 'nightfall'), ('nightfall', ','), (',', 'and'), ('and', 'aside'), ('aside', 'from'), ('from', 'making'), ('making', 'sure'), ('sure', 'that'), ('that', 'Karen'), ('Karen', 'is'), ('is', 'warm'), ('warm', 'enough'), ('enough', 'until'), ('until', 'Santa'), ('Santa', 'arrives'), ('arrives', ','), (',', 'Frosty'), ('Frosty', 'also'), ('also', 'has'), ('has', 'to'), ('to', 'worry'), ('worry', 'about'), ('about', 'Professor'), ('Professor', 'Hinkle'), ('Hinkle', ','), (',', 'who'), ('who', 'will'), ('will', 'stop'), ('stop', 'at'), ('at', 'nothing'), ('nothing', 'to'), ('to', 'track'), ('track', 'the'), ('the', 'travelers'), ('travelers', 'down'), ('down', 'and'), ('and', 'reclaim'), ('reclaim', 'possession'), ('possession', 'of'), ('of', 'his'), ('his', 'hat.After'), ('hat.After', 'temporarily'), ('temporarily', 'giving'), ('giving', 'Professor'), ('Professor', 'Hinkle'), ('Hinkle', 'the'), ('the', 'slip'), ('slip', ','), (',', 'Frosty'), ('Frosty', 'and'), ('and', 'Karen'), ('Karen', 'manage'), ('manage', 'to'), ('to', 'come'), ('come', 'across'), ('across', 'a'), ('a', 'small'), ('small', 'greenhouse'), ('greenhouse', ','), (',', 'where'), ('where', 'a'), ('a', 'whole'), ('whole', 'bunch'), ('bunch', 'of'), ('of', 'poinsettas'), ('poinsettas', '('), ('(', 'tropical'), ('tropical', 'Christmas'), ('Christmas', 'flowers'), ('flowers', ')'), (')', 'are'), ('are', 'growing'), ('growing', '.'), ('.', 'Deciding'), ('Deciding', 'that'), ('that', 'it'), ('it', 'must'), ('must', 'be'), ('be', 'very'), ('very', 'warm'), ('warm', 'and'), ('and', 'comfortable'), ('comfortable', 'inside'), ('inside', 'the'), ('the', 'greenhouse'), ('greenhouse', ','), (',', 'Frosty'), ('Frosty', 'carries'), ('carries', 'Karen'), ('Karen', 'inside'), ('inside', '.'), ('.', 'Karen'), ('Karen', 'protests'), ('protests', 'that'), ('that', 'Frosty'), ('Frosty', 'will'), ('will', 'melt'), ('melt', 'if'), ('if', 'he'), ('he', 'goes'), ('goes', 'into'), ('into', 'the'), ('the', 'greenhouse'), ('greenhouse', ','), (',', 'and'), ('and', 'Frosty'), ('Frosty', 'assures'), ('assures', 'her'), ('her', 'that'), ('that', 'he'), ('he', \"'ll\"), (\"'ll\", 'only'), ('only', 'stay'), ('stay', 'inside'), ('inside', 'for'), ('for', 'a'), ('a', 'minute'), ('minute', '.'), ('.', 'But'), ('But', 'once'), ('once', 'they'), ('they', \"'re\"), (\"'re\", 'inside'), ('inside', ','), (',', 'Professor'), ('Professor', 'Hinkle'), ('Hinkle', ','), (',', 'who'), ('who', 'by'), ('by', 'then'), ('then', 'has'), ('has', 'caught'), ('caught', 'up'), ('up', 'with'), ('with', 'them'), ('them', ','), (',', 'shuts'), ('shuts', 'the'), ('the', 'door'), ('door', 'behind'), ('behind', 'them'), ('them', 'and'), ('and', 'locks'), ('locks', 'it'), ('it', '.'), ('.', 'Now'), ('Now', 'all'), ('all', 'the'), ('the', 'fiendish'), ('fiendish', 'magician'), ('magician', 'has'), ('has', 'to'), ('to', 'do'), ('do', 'is'), ('is', 'wait'), ('wait', 'for'), ('for', 'Frosty'), ('Frosty', 'to'), ('to', 'melt.Eventually'), ('melt.Eventually', 'Santa'), ('Santa', 'Claus'), ('Claus', 'shows'), ('shows', 'up'), ('up', ','), (',', 'and'), ('and', 'Hocus'), ('Hocus', 'Pocus'), ('Pocus', 'persuades'), ('persuades', 'him'), ('him', 'to'), ('to', 'help'), ('help', 'Frosty'), ('Frosty', 'and'), ('and', 'Karen'), ('Karen', '.'), ('.', 'While'), ('While', 'searching'), ('searching', 'for'), ('for', 'the'), ('the', 'two'), ('two', 'of'), ('of', 'them'), ('them', ','), (',', 'Santa'), ('Santa', 'and'), ('and', 'Hocus'), ('Hocus', 'Pocus'), ('Pocus', 'come'), ('come', 'across'), ('across', 'the'), ('the', 'greenhouse'), ('greenhouse', '--'), ('--', 'the'), ('the', 'very'), ('very', 'same'), ('same', 'greenhouse'), ('greenhouse', 'in'), ('in', 'which'), ('which', 'Frosty'), ('Frosty', 'and'), ('and', 'Karen'), ('Karen', 'are'), ('are', 'trapped'), ('trapped', '.'), ('.', 'Santa'), ('Santa', 'quickly'), ('quickly', 'unlocks'), ('unlocks', 'the'), ('the', 'door'), ('door', ','), (',', 'but'), ('but', 'once'), ('once', 'he'), ('he', 'gets'), ('gets', 'inside'), ('inside', ','), (',', 'a'), ('a', 'terrible'), ('terrible', 'sight'), ('sight', 'meets'), ('meets', 'his'), ('his', 'eyes'), ('eyes', ':'), (':', 'Karen'), ('Karen', 'is'), ('is', 'down'), ('down', 'on'), ('on', 'her'), ('her', 'knees'), ('knees', ','), (',', 'crying'), ('crying', 'her'), ('her', 'eyes'), ('eyes', 'out'), ('out', ','), (',', 'and'), ('and', 'all'), ('all', 'that'), ('that', \"'s\"), (\"'s\", 'left'), ('left', 'of'), ('of', 'Frosty'), ('Frosty', 'is'), ('is', 'an'), ('an', 'old'), ('old', 'top'), ('top', 'hat'), ('hat', 'and'), ('and', 'a'), ('a', 'shapeless'), ('shapeless', 'puddle'), ('puddle', 'of'), ('of', 'water'), ('water', 'on'), ('on', 'the'), ('the', 'floor'), ('floor', '.'), ('.', 'Everything'), ('Everything', 'looks'), ('looks', 'hopeless'), ('hopeless', 'at'), ('at', 'the'), ('the', 'moment'), ('moment', ','), (',', 'as'), ('as', 'you'), ('you', 'can'), ('can', 'very'), ('very', 'well'), ('well', 'imagine'), ('imagine', '.'), ('.', 'Santa'), ('Santa', ','), (',', 'however'), ('however', ','), (',', 'assures'), ('assures', 'Karen'), ('Karen', 'that'), ('that', 'all'), ('all', 'is'), ('is', 'not'), ('not', 'lost'), ('lost', '.'), ('.', 'He'), ('He', 'tells'), ('tells', 'her'), ('her', 'that'), ('that', 'Frosty'), ('Frosty', 'is'), ('is', 'not'), ('not', 'gone'), ('gone', 'for'), ('for', 'good'), ('good', ';'), (';', 'for'), ('for', 'he'), ('he', 'is'), ('is', 'made'), ('made', 'out'), ('out', 'of'), ('of', 'Christmas'), ('Christmas', 'snow'), ('snow', ','), (',', 'and'), ('and', 'Christmas'), ('Christmas', 'snow'), ('snow', 'can'), ('can', 'never'), ('never', 'disappear'), ('disappear', 'completely'), ('completely', '.'), ('.', 'When'), ('When', 'Karen'), ('Karen', 'protests'), ('protests', 'that'), ('that', 'Frosty'), ('Frosty', 'was'), ('was', 'her'), ('her', 'best'), ('best', 'friend'), ('friend', ','), (',', 'Santa'), ('Santa', 'surprises'), ('surprises', 'her'), ('her', 'by'), ('by', 'using'), ('using', 'his'), ('his', 'special'), ('special', 'holiday'), ('holiday', 'magic'), ('magic', 'to'), ('to', 'restore'), ('restore', 'Frosty'), ('Frosty', 'to'), ('to', 'the'), ('the', 'way'), ('way', 'he'), ('he', 'was'), ('was', 'before.Before'), ('before.Before', 'they'), ('they', 'can'), ('can', 'actually'), ('actually', 'bring'), ('bring', 'Frosty'), ('Frosty', 'back'), ('back', 'to'), ('to', 'life'), ('life', 'with'), ('with', 'the'), ('the', 'hat'), ('hat', ','), (',', 'Professor'), ('Professor', 'Hinkle'), ('Hinkle', 'puts'), ('puts', 'his'), ('his', 'foot'), ('foot', 'down'), ('down', 'and'), ('and', 'demands'), ('demands', 'the'), ('the', 'return'), ('return', 'of'), ('of', 'his'), ('his', 'hat'), ('hat', 'then'), ('then', 'and'), ('and', 'there'), ('there', '.'), ('.', 'Santa'), ('Santa', 'warns'), ('warns', 'Professor'), ('Professor', 'Hinkle'), ('Hinkle', 'to'), ('to', 'stay'), ('stay', 'away'), ('away', 'from'), ('from', 'Frosty'), ('Frosty', ','), (',', 'and'), ('and', 'to'), ('to', 'never'), ('never', 'lay'), ('lay', 'so'), ('so', 'much'), ('much', 'as'), ('as', 'a'), ('a', 'finger'), ('finger', 'on'), ('on', 'the'), ('the', 'brim'), ('brim', 'of'), ('of', 'the'), ('the', 'hat'), ('hat', ','), (',', 'otherwise'), ('otherwise', 'he'), ('he', \"'ll\"), (\"'ll\", 'permanently'), ('permanently', 'delete'), ('delete', 'the'), ('the', 'magician'), ('magician', 'from'), ('from', 'his'), ('his', 'list'), ('list', 'and'), ('and', 'never'), ('never', 'bring'), ('bring', 'the'), ('the', 'magician'), ('magician', 'another'), ('another', 'Christmas'), ('Christmas', 'gift'), ('gift', 'for'), ('for', 'the'), ('the', 'rest'), ('rest', 'of'), ('of', 'his'), ('his', 'life'), ('life', '.'), ('.', 'This'), ('This', 'insinuation'), ('insinuation', 'hits'), ('hits', 'Professor'), ('Professor', 'Hinkle'), ('Hinkle', 'hard'), ('hard', ','), (',', 'and'), ('and', 'he'), ('he', 'complains'), ('complains', 'bitterly'), ('bitterly', 'that'), ('that', 'it'), ('it', \"'s\"), (\"'s\", 'not'), ('not', 'fair'), ('fair', ','), (',', 'for'), ('for', 'even'), ('even', 'evil'), ('evil', 'magicians'), ('magicians', 'have'), ('have', 'to'), ('to', 'make'), ('make', 'a'), ('a', 'living'), ('living', '.'), ('.', 'Santa'), ('Santa', 'then'), ('then', 'tells'), ('tells', 'Professor'), ('Professor', 'Hinkle'), ('Hinkle', 'to'), ('to', 'go'), ('go', 'home'), ('home', 'and'), ('and', 'write'), ('write', '``'), ('``', 'I'), ('I', 'am'), ('am', 'very'), ('very', 'sorry'), ('sorry', 'for'), ('for', 'what'), ('what', 'I'), ('I', 'did'), ('did', 'to'), ('to', 'Frosty'), ('Frosty', \"''\"), (\"''\", 'a'), ('a', 'hundred'), ('hundred', 'zillion'), ('zillion', 'times'), ('times', ','), (',', 'and'), ('and', 'then'), ('then', 'maybe'), ('maybe', '('), ('(', 'just'), ('just', 'maybe'), ('maybe', ')'), (')', 'he'), ('he', \"'ll\"), (\"'ll\", 'find'), ('find', 'something'), ('something', 'in'), ('in', 'his'), ('his', 'stocking'), ('stocking', 'the'), ('the', 'following'), ('following', 'morning'), ('morning', '.'), ('.', 'Professor'), ('Professor', 'Hinkle'), ('Hinkle', 'agrees'), ('agrees', ','), (',', 'and'), ('and', 'takes'), ('takes', 'off'), ('off', 'for'), ('for', 'home'), ('home', 'as'), ('as', 'fast'), ('fast', 'as'), ('as', 'he'), ('he', 'can'), ('can', ','), (',', 'so'), ('so', 'that'), ('that', 'he'), ('he', 'might'), ('might', 'be'), ('be', 'able'), ('able', 'to'), ('to', 'complete'), ('complete', 'the'), ('the', 'assignment'), ('assignment', 'before'), ('before', 'the'), ('the', 'night'), ('night', 'is'), ('is', 'over'), ('over', '.'), ('.', 'Santa'), ('Santa', 'then'), ('then', 'places'), ('places', 'the'), ('the', 'hat'), ('hat', 'on'), ('on', 'Frosty'), ('Frosty', \"'s\"), (\"'s\", 'head'), ('head', ','), (',', 'and'), ('and', 'he'), ('he', 'immediately'), ('immediately', 'awakens'), ('awakens', ','), (',', 'much'), ('much', 'to'), ('to', 'Karen'), ('Karen', \"'s\"), (\"'s\", 'delight'), ('delight', '.'), ('.', 'Later'), ('Later', ','), (',', 'Santa'), ('Santa', 'takes'), ('takes', 'Karen'), ('Karen', 'home'), ('home', ','), (',', 'and'), ('and', 'then'), ('then', 'he'), ('he', 'takes'), ('takes', 'Frosty'), ('Frosty', 'away'), ('away', 'to'), ('to', 'the'), ('the', 'North'), ('North', 'Pole'), ('Pole', '.'), ('.', 'Karen'), ('Karen', 'hates'), ('hates', 'to'), ('to', 'say'), ('say', 'goodbye'), ('goodbye', 'to'), ('to', 'Frosty'), ('Frosty', ','), (',', 'but'), ('but', 'Santa'), ('Santa', 'promises'), ('promises', 'that'), ('that', 'he'), ('he', 'will'), ('will', 'bring'), ('bring', 'Frosty'), ('Frosty', 'back'), ('back', 'to'), ('to', 'the'), ('the', 'city'), ('city', 'every'), ('every', 'Christmas'), ('Christmas', ','), (',', 'and'), ('and', 'so'), ('so', 'he'), ('he', 'does'), ('does', '.'), ('.', 'And'), ('And', 'every'), ('every', 'year'), ('year', 'from'), ('from', 'then'), ('then', 'on'), ('on', ','), (',', 'Frosty'), ('Frosty', \"'s\"), (\"'s\", 'return'), ('return', 'is'), ('is', 'always'), ('always', 'celebrated'), ('celebrated', 'with'), ('with', 'a'), ('a', 'big'), ('big', 'Christmas'), ('Christmas', 'parade.I'), ('parade.I', \"'ve\"), (\"'ve\", 'watched'), ('watched', 'this'), ('this', 'movie'), ('movie', 'almost'), ('almost', 'every'), ('every', 'Christmas'), ('Christmas', 'for'), ('for', 'as'), ('as', 'long'), ('long', 'as'), ('as', 'I'), ('I', 'can'), ('can', 'remember'), ('remember', ','), (',', 'and'), ('and', 'I'), ('I', 'do'), ('do', \"n't\"), (\"n't\", 'think'), ('think', 'I'), ('I', \"'ll\"), (\"'ll\", 'ever'), ('ever', 'get'), ('get', 'tired'), ('tired', 'of'), ('of', 'watching'), ('watching', 'it'), ('it', '.'), ('.', 'It'), ('It', \"'s\"), (\"'s\", 'really'), ('really', 'an'), ('an', 'awesome'), ('awesome', 'movie'), ('movie', ','), (',', 'one'), ('one', 'that'), ('that', 'the'), ('the', 'whole'), ('whole', 'family'), ('family', 'can'), ('can', 'enjoy'), ('enjoy', '.'), ('.', 'If'), ('If', 'you'), ('you', 'have'), ('have', \"n't\"), (\"n't\", 'seen'), ('seen', 'it'), ('it', ','), (',', 'I'), ('I', 'recommend'), ('recommend', 'you'), ('you', 'do'), ('do', 'so'), ('so', '.'), ('.', 'It'), ('It', \"'s\"), (\"'s\", 'a'), ('a', 'real'), ('real', 'holiday'), ('holiday', 'treat'), ('treat', '.')]\n",
      "(',', 'and') 18\n",
      "('Professor', 'Hinkle') 11\n",
      "(',', 'who') 5\n",
      "('the', 'hat') 5\n",
      "(',', 'Frosty') 5\n",
      "('to', 'the') 5\n",
      "('.', 'Santa') 5\n",
      "(',', 'but') 4\n",
      "('of', 'his') 4\n",
      "('of', 'the') 4\n",
      "('that', 'he') 4\n",
      "('Frosty', 'and') 4\n",
      "('and', 'Karen') 4\n",
      "(',', 'the') 3\n",
      "('on', 'the') 3\n",
      "('the', 'magician') 3\n",
      "('Hinkle', ',') 3\n",
      "('in', 'the') 3\n",
      "('out', 'of') 3\n",
      "('his', 'hat') 3\n",
      "('Frosty', \"'s\") 3\n",
      "('the', 'North') 3\n",
      "('North', 'Pole') 3\n",
      "('and', 'he') 3\n",
      "('Hocus', 'Pocus') 3\n",
      "('greenhouse', ',') 3\n",
      "('the', 'greenhouse') 3\n",
      "('that', 'Frosty') 3\n",
      "('he', \"'ll\") 3\n",
      "(',', 'Santa') 3\n",
      "('just', 'about') 2\n",
      "('``', 'Frosty') 2\n",
      "('and', 'I') 2\n",
      "('I', 'can') 2\n",
      "('it', \"'s\") 2\n",
      "(\"'s\", 'a') 2\n",
      "('.', 'The') 2\n",
      "('it', ',') 2\n",
      "('that', \"'s\") 2\n",
      "(\"'s\", 'not') 2\n"
     ]
    }
   ],
   "source": [
    "from nltk import word_tokenize\n",
    "from nltk import pos_tag\n",
    "from nltk import bigrams\n",
    "import pandas as pd\n",
    "import operator\n",
    "\n",
    "#Reading the CSV file\n",
    "reviews_document = pd.read_csv(\"F:/EH Year 2/CIS2166 - Data Analytics/Data Analytics - CW2/movie_reviews_textblob.csv\", sep='\\t',\n",
    "    header=0).head(n=10)\n",
    "#Renaming the columns in the Pandas data frame\n",
    "reviews_document.columns = ['Review Number', 'Product Code', 'Review', 'Textblob Score']\n",
    "\n",
    "reviews = ''\n",
    "# Concatenating all positive reviews into one string\n",
    "for review_number in range(len(reviews_document)):\n",
    "    if (int(reviews_document['Textblob Score'].iloc[review_number]) > 0):\n",
    "        reviews = reviews + str(reviews_document['Review'].iloc[review_number])\n",
    "\n",
    "# Split into individual words\n",
    "words = word_tokenize(reviews)\n",
    "# Putting all words into pairs (collocations)\n",
    "bigrams_of_words = list(bigrams(words))\n",
    " # Calling function to calculate the freuqnecy of the collocations\n",
    "bigrams_with_frequencies = compute_frequency_of_bigrams(bigrams_of_words)\n",
    "# Putting the collocations and the frequencies of each in order from highest to lowest based on frequency\n",
    "bigrams_with_frequencies_sorted = dict(sorted(bigrams_with_frequencies.items(), key=operator.itemgetter(1), reverse = True))\n",
    "# Printing the 40 most prominant collocations along with the respective frequencies\n",
    "print_count = 0\n",
    "for bigram in bigrams_with_frequencies_sorted:\n",
    "    print_count = print_count + 1\n",
    "    if (print_count <= 40):\n",
    "        print(bigram, bigrams_with_frequencies_sorted[bigram])"
   ]
  },
  {
   "cell_type": "code",
   "execution_count": 8,
   "metadata": {
    "collapsed": true
   },
   "outputs": [],
   "source": [
    "def compute_frequency_of_bigrams(bigrams_with_pos_tags):\n",
    "    bigrams_with_frequencies = {}\n",
    "    # Looping through each bigram\n",
    "    for first_element, second_element in bigrams_with_pos_tags:\n",
    "        # If the collocation already exists, add one to it's current frequency\n",
    "        if (first_element, second_element) in bigrams_with_frequencies:\n",
    "            bigrams_with_frequencies[(first_element, second_element)] += 1\n",
    "        # If the collocation doesn't exist, asign it's frequency to 1\n",
    "        else:\n",
    "            bigrams_with_frequencies[(first_element, second_element)] = 1\n",
    "    return bigrams_with_frequencies"
   ]
  },
  {
   "cell_type": "code",
   "execution_count": null,
   "metadata": {
    "collapsed": true
   },
   "outputs": [],
   "source": []
  }
 ],
 "metadata": {
  "kernelspec": {
   "display_name": "Python 3",
   "language": "python",
   "name": "python3"
  },
  "language_info": {
   "codemirror_mode": {
    "name": "ipython",
    "version": 3
   },
   "file_extension": ".py",
   "mimetype": "text/x-python",
   "name": "python",
   "nbconvert_exporter": "python",
   "pygments_lexer": "ipython3",
   "version": "3.6.3"
  }
 },
 "nbformat": 4,
 "nbformat_minor": 2
}
