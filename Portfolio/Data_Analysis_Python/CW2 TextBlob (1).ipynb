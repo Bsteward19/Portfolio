{
 "cells": [
  {
   "cell_type": "code",
   "execution_count": 7,
   "metadata": {},
   "outputs": [
    {
     "name": "stderr",
     "output_type": "stream",
     "text": [
      "C:\\Users\\Ben\\Documents\\Anaconda\\lib\\site-packages\\ipykernel_launcher.py:16: SettingWithCopyWarning: \n",
      "A value is trying to be set on a copy of a slice from a DataFrame\n",
      "\n",
      "See the caveats in the documentation: http://pandas.pydata.org/pandas-docs/stable/indexing.html#indexing-view-versus-copy\n",
      "  app.launch_new_instance()\n"
     ]
    },
    {
     "name": "stdout",
     "output_type": "stream",
     "text": [
      "              Product Code                                             Review  \\\n",
      "Review Number                                                                   \n",
      "1               076780192X  it always amazes me how people can rate the DV...   \n",
      "2               0767821599  This movie is okay, but, its not worth what th...   \n",
      "3               0782008380  If you love the Highlander 1 movie and the ser...   \n",
      "4               0767726227  This is a great classic collection, if you lik...   \n",
      "5               0780621832  This is the second of John Ford and John Wayne...   \n",
      "6               0310263662  I am an evangelical Christian who believes in ...   \n",
      "7               0767809270  Federal law, in one of its numerous unfunded m...   \n",
      "8               0307142469  **SPOILER ALERT**I'll bet just about everybody...   \n",
      "9               0767851668  I actually had this on my shelf for 2 or 3 yea...   \n",
      "10              0767821556  This ridiculous premise seems much more suited...   \n",
      "\n",
      "              TextBlob score  \n",
      "Review Number                 \n",
      "1                   0.918552  \n",
      "2                   0.658333  \n",
      "3                      0.775  \n",
      "4                   0.333333  \n",
      "5                  -0.179067  \n",
      "6                   0.452778  \n",
      "7                   0.259524  \n",
      "8                    2.21882  \n",
      "9                     0.0875  \n",
      "10                      0.72  \n"
     ]
    }
   ],
   "source": [
    "import pandas as pd\n",
    "import gc\n",
    "from textblob import TextBlob\n",
    "\n",
    "#Reading the CSV file\n",
    "reviews = pd.read_csv(\"D:/EH Year 2/CIS2166 - Data Analytics/Data Analytics - CW2/movie_reviews.csv\", sep='\\t', header=None).head(n=10)\n",
    "#Renaming the columns in the Pandas data frame\n",
    "reviews.columns = ['Review Number', 'Product Code', 'Review']\n",
    "#Creating new column in data frame, naming it 'TextBlob score' and setting all values to null\n",
    "reviews['TextBlob score'] = 'NaN'\n",
    "#Manually setting index to 'Review Number' column\n",
    "reviews.set_index(['Review Number'])\n",
    "\n",
    "#Looping through all lines in data frame\n",
    "for x in range(len(reviews)):\n",
    "    total_sentiment_score = 0.0\n",
    "    #Creating TextBlob object\n",
    "    blob = TextBlob(str(reviews['Review'].iloc[x]))\n",
    "    #Looping through individual sentences in TextBlob object\n",
    "    for sentence in blob.sentences:\n",
    "        #Running count of current sentiment score for each review\n",
    "        total_sentiment_score = total_sentiment_score + sentence.sentiment.polarity\n",
    "    #Inputting TextBlob sentiment score into the 'TextBlob score' column\n",
    "    reviews['TextBlob score'][x] = total_sentiment_score\n",
    "        \n",
    "#Manually setting index for data frame\n",
    "reviews = reviews.set_index(['Review Number'])\n",
    "#Printing the data frame\n",
    "print(reviews)\n",
    "\n",
    "#Outputting Pandas data frame to CSV file\n",
    "reviews.to_csv(\"D:/EH Year 2/CIS2166 - Data Analytics/Data Analytics - CW2/movie_reviews_textblob.csv\", sep='\\t')"
   ]
  },
  {
   "cell_type": "code",
   "execution_count": null,
   "metadata": {
    "collapsed": true
   },
   "outputs": [],
   "source": []
  }
 ],
 "metadata": {
  "kernelspec": {
   "display_name": "Python 3",
   "language": "python",
   "name": "python3"
  },
  "language_info": {
   "codemirror_mode": {
    "name": "ipython",
    "version": 3
   },
   "file_extension": ".py",
   "mimetype": "text/x-python",
   "name": "python",
   "nbconvert_exporter": "python",
   "pygments_lexer": "ipython3",
   "version": "3.6.3"
  }
 },
 "nbformat": 4,
 "nbformat_minor": 2
}
