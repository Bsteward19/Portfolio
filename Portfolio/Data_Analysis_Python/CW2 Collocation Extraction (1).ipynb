{
 "cells": [
  {
   "cell_type": "code",
   "execution_count": 1,
   "metadata": {
    "collapsed": true
   },
   "outputs": [],
   "source": [
    "def compute_frequency_of_bigrams(bigrams_with_pos_tags):\n",
    "    bigrams_with_frequencies = {}\n",
    "    noun_list = ['NN', 'NNS', 'NNP', 'NNPS']\n",
    "    adjective_list = ['JJ', 'JJR', 'JJS']\n",
    "    for first_element, second_element in bigrams_with_pos_tags:\n",
    "        first_word_of_bigram, first_word_pos_tag = first_element[0], first_element[1]\n",
    "        second_word_of_bigram, second_word_pos_tag = second_element[0], second_element[1]\n",
    "        if ((first_word_pos_tag in noun_list and second_word_pos_tag in noun_list)\n",
    "            or (first_word_pos_tag in adjective_list and second_word_pos_tag in noun_list)):\n",
    "            if (first_word_of_bigram, second_word_of_bigram) in bigrams_with_frequencies:\n",
    "                bigrams_with_frequencies[(first_word_of_bigram, second_word_of_bigram)] += 1\n",
    "            else:\n",
    "                bigrams_with_frequencies[(first_word_of_bigram, second_word_of_bigram)] = 1\n",
    "    return bigrams_with_frequencies"
   ]
  },
  {
   "cell_type": "code",
   "execution_count": 6,
   "metadata": {},
   "outputs": [
    {
     "name": "stdout",
     "output_type": "stream",
     "text": [
      "('Professor', 'Hinkle') 11\n",
      "('North', 'Pole') 3\n",
      "('Hocus', 'Pocus') 3\n",
      "('old', 'top') 2\n",
      "('top', 'hat') 2\n",
      "('box', 'car') 2\n",
      "('Karen', 'home') 2\n",
      "('Santa', 'Claus') 2\n",
      "('big', 'snowman') 1\n",
      "('wintry', 'creation') 1\n",
      "('magician', 'Professor') 1\n",
      "('worst', 'magician') 1\n",
      "('simple', 'card') 1\n",
      "('card', 'trick') 1\n",
      "('simple', 'rabbit') 1\n",
      "('new', 'friend') 1\n",
      "('better', 'place') 1\n",
      "('Frosty', 'downtown') 1\n",
      "('railroad', 'station') 1\n",
      "('small', 'girl') 1\n",
      "('wonderful', 'place') 1\n",
      "('human', 'flesh') 1\n",
      "('rest', 'stop.But') 1\n",
      "('pet', 'rabbit') 1\n",
      "('Santa', 'arrives') 1\n",
      "('reclaim', 'possession') 1\n",
      "('Karen', 'manage') 1\n",
      "('small', 'greenhouse') 1\n",
      "('whole', 'bunch') 1\n",
      "('tropical', 'Christmas') 1\n",
      "('Christmas', 'flowers') 1\n",
      "('Karen', 'inside') 1\n",
      "('fiendish', 'magician') 1\n",
      "('same', 'greenhouse') 1\n",
      "('terrible', 'sight') 1\n",
      "('shapeless', 'puddle') 1\n",
      "('Christmas', 'snow') 1\n",
      "('best', 'friend') 1\n",
      "('special', 'holiday') 1\n",
      "('holiday', 'magic') 1\n"
     ]
    }
   ],
   "source": [
    "from nltk import word_tokenize\n",
    "from nltk import pos_tag\n",
    "from nltk import bigrams\n",
    "import pandas as pd\n",
    "import operator\n",
    "#Reading the CSV file\n",
    "reviews_document = pd.read_csv(\"F:/EH Year 2/CIS2166 - Data Analytics/Data Analytics - CW2/movie_reviews_textblob.csv\", sep='\\t',\n",
    "    header=0).head(n=10)\n",
    "#Renaming the columns in the Pandas data frame\n",
    "reviews_document.columns = ['Review Number', 'Product Code', 'Review', 'Textblob Score']\n",
    "\n",
    "reviews = ''\n",
    "# Concatenating all positive reviews into one string\n",
    "for review_number in range(len(reviews_document)):\n",
    "    if (int(reviews_document['Textblob Score'].iloc[review_number]) > 0):\n",
    "        reviews = reviews + str(reviews_document['Review'].iloc[review_number])\n",
    "    \n",
    "# Split into individual words\n",
    "words = word_tokenize(reviews)\n",
    "# Give word types to individual words\n",
    "words_with_pos_tags = pos_tag(words)\n",
    "bigrams_with_pos_tags = list(bigrams(words_with_pos_tags))\n",
    "bigrams_with_frequencies = compute_frequency_of_bigrams(bigrams_with_pos_tags)\n",
    "bigrams_with_frequencies_sorted = dict(sorted(bigrams_with_frequencies.items(), key=operator.itemgetter(1), reverse = True))\n",
    "print_count = 0\n",
    "for bigram in bigrams_with_frequencies_sorted:\n",
    "    print_count = print_count + 1\n",
    "    if (print_count <= 40):\n",
    "        print(bigram, bigrams_with_frequencies_sorted[bigram])"
   ]
  },
  {
   "cell_type": "code",
   "execution_count": null,
   "metadata": {
    "collapsed": true
   },
   "outputs": [],
   "source": []
  }
 ],
 "metadata": {
  "kernelspec": {
   "display_name": "Python 3",
   "language": "python",
   "name": "python3"
  },
  "language_info": {
   "codemirror_mode": {
    "name": "ipython",
    "version": 3
   },
   "file_extension": ".py",
   "mimetype": "text/x-python",
   "name": "python",
   "nbconvert_exporter": "python",
   "pygments_lexer": "ipython3",
   "version": "3.6.3"
  }
 },
 "nbformat": 4,
 "nbformat_minor": 2
}
