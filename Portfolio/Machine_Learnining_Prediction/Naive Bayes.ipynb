{
 "cells": [
  {
   "cell_type": "code",
   "execution_count": 13,
   "metadata": {},
   "outputs": [],
   "source": [
    "import numpy as np\n",
    "import pandas as pd\n",
    "    # Uses the Pandas library to read dataset from a CSV file\n",
    "    # and returns feature names, instances and labels\n",
    "def load_data_from_csv(input_csv):\n",
    "        # The read_csv Pandas function loads a csv file into a DataFrame (i.e., df)\\\n",
    "        # data structure \\n\",\n",
    "        # the first line of the csv (i.e., header=0) contains headings\n",
    "        df = pd.read_csv(input_csv, header=0) \n",
    "       # store CSV headings into a list\n",
    "        csv_headings = list(df.columns.values) \n",
    "        # the first n-1 items of the csv_headings are the feature names\n",
    "        feature_names = csv_headings[:len(csv_headings) - 1]  \n",
    "        # the last item of the csv_heading is the name of the label\\n\n",
    "        label_name = csv_headings[len(csv_headings) - 1:len(csv_headings)][0] \n",
    "      # get the numeric data of the csv file and store them in a numpy array\\n\",\n",
    "        df = df._get_numeric_data()\n",
    "        numpy_array = df.as_matrix() \n",
    "        # get number of rows and number of columns from numpy array\n",
    "        number_of_rows, number_of_columns = numpy_array.shape \n",
    "        # n-1 columns of the numpy array correspond to the instances\n",
    "        instances = numpy_array[:, 0:number_of_columns - 1]\n",
    "        # last column of the numpy array corresponds to the labels\n",
    "        labels = []\n",
    "        for label in numpy_array[:, number_of_columns - 1:number_of_columns].tolist():\n",
    "            labels.append(label[0])   \n",
    "        return feature_names, instances, labels"
   ]
  },
  {
   "cell_type": "code",
   "execution_count": 14,
   "metadata": {},
   "outputs": [
    {
     "name": "stderr",
     "output_type": "stream",
     "text": [
      "C:\\ProgramData\\Anaconda3\\lib\\site-packages\\ipykernel_launcher.py:18: FutureWarning: Method .as_matrix will be removed in a future version. Use .values instead.\n"
     ]
    },
    {
     "name": "stdout",
     "output_type": "stream",
     "text": [
      "Done loading CSV files\n"
     ]
    }
   ],
   "source": [
    "import pandas as pd\n",
    "input_training_csv='Z:\\\\My Documents\\\\CIS3145\\\\CW2\\\\csv\\\\reviews_Video_Games_training.csv'\n",
    "input_test_csv='Z:\\\\My Documents\\\\CIS3145\\\\CW2\\\\csv\\\\reviews_Video_Games_test.csv'\n",
    "training_feature_names, training_instances, training_labels = load_data_from_csv(input_csv = input_training_csv)\n",
    "test_feature_names, test_instances, test_labels = load_data_from_csv(input_csv=input_test_csv)\n",
    "print('Done loading CSV files')"
   ]
  },
  {
   "cell_type": "code",
   "execution_count": 31,
   "metadata": {},
   "outputs": [
    {
     "name": "stdout",
     "output_type": "stream",
     "text": [
      "done training\n",
      "done predicting\n",
      "0.8187637527505501\n",
      "Confusion Matrix\n",
      "             precision    recall  f1-score   support\n",
      "\n",
      "          0      0.803     0.850     0.826      2525\n",
      "          1      0.837     0.787     0.811      2474\n",
      "\n",
      "avg / total      0.820     0.819     0.819      4999\n",
      "\n"
     ]
    }
   ],
   "source": [
    "import numpy as np\n",
    "from sklearn.metrics import confusion_matrix\n",
    "def naive_bayes(input_training_csv, input_test_csv, alpha): #alpha is a multiplier applied to 0 value probabilities so that the return value will not always be zero\n",
    "    \n",
    "    from sklearn.naive_bayes import MultinomialNB\n",
    "    model = MultinomialNB(alpha=alpha).fit(training_instances, training_labels)\n",
    "    print('done training')\n",
    "    predicted = model.predict(test_instances)\n",
    "    print('done predicting')\n",
    "    print(np.mean(predicted == test_labels))\n",
    "    print('Confusion Matrix')\n",
    "    from sklearn.metrics import classification_report\n",
    "    print(classification_report(test_labels, predicted, digits = 3))\n",
    "\n",
    "def main():\n",
    "    naive_bayes(input_training_csv, input_test_csv, 0.001)\n",
    "    \n",
    "\n",
    "if __name__ == '__main__':\n",
    "        main()\n",
    "    \n"
   ]
  }
 ],
 "metadata": {
  "kernelspec": {
   "display_name": "Python 3",
   "language": "python",
   "name": "python3"
  },
  "language_info": {
   "codemirror_mode": {
    "name": "ipython",
    "version": 3
   },
   "file_extension": ".py",
   "mimetype": "text/x-python",
   "name": "python",
   "nbconvert_exporter": "python",
   "pygments_lexer": "ipython3",
   "version": "3.6.5"
  }
 },
 "nbformat": 4,
 "nbformat_minor": 2
}
