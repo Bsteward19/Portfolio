{
 "cells": [
  {
   "cell_type": "code",
   "execution_count": 11,
   "metadata": {
    "scrolled": false
   },
   "outputs": [
    {
     "name": "stdout",
     "output_type": "stream",
     "text": [
      "----------------------------\n",
      "Average Sentiment Score\n",
      "15.54\n"
     ]
    }
   ],
   "source": [
    "import numpy as np\n",
    "import pandas as pd\n",
    "#  # load training data\n",
    "df_training_data = pd.read_csv('Z:\\\\My Documents\\\\CIS3145\\\\CW2\\\\csv\\\\reviews_Video_Games_training.csv', header=0)\n",
    "# # load test data\n",
    "df_test_data = pd.read_csv('Z:\\\\My Documents\\\\CIS3145\\\\CW2\\\\csv\\\\reviews_Video_Games_test.csv', header=0)\n",
    "# # load sentiment lexicon\n",
    "df_sentiment_lexicon = pd.read_csv('Z:\\\\Downloads\\\\Games_senti_lexicon.tsv', delimiter='\\t', header=None)\n",
    "\n",
    "# get words in sentiment lexicon\n",
    "sentiment_words = list(df_sentiment_lexicon[0])\n",
    "# get sentiment scores\n",
    "sentiment_scores = list(df_sentiment_lexicon[1])\n",
    "\n",
    "# create a Python dictionary, where the key is a word and the value is the sentiment score of that word\n",
    "\n",
    "sent_words_with_scores = {}\n",
    "sentScore = 0\n",
    "\n",
    "for index, sentiment_word in enumerate(sentiment_words):\n",
    "    sent_words_with_scores[sentiment_word] = sentiment_scores[index]\n",
    "\n",
    "#print(sent_words_with_scores['meh'])\n",
    "#print('number of features before cleaning', len(df_training_data.columns))\n",
    "# loop over features. This filters data so words not present in reviews are removed\n",
    "for feature in df_training_data.columns[:len(df_training_data.columns)-1]: \n",
    "     # if feature not in sentiment_words list then remove it from both training and test data     \n",
    "     if feature not in sentiment_words:\n",
    "         df_training_data = df_training_data.drop(feature, axis=1)\n",
    "         df_test_data = df_test_data.drop(feature, axis=1)\n",
    "    \n",
    "#for i in range(len(df_training_data)):\n",
    "#     i - row\n",
    "# feature is current column in row\n",
    "   #for feature in df_training_data.columns[:len(df_training_data.columns)-1]: #for all columns in current row\n",
    "        #print(feature, i, df_training_data[feature].values[i]) #print (column header, row, value in cell)\n",
    "\n",
    "sentArray = []\n",
    "check = None\n",
    "for i in range(len(df_training_data)):\n",
    "    for feature in df_training_data.columns[:len(df_training_data.columns)-1]:\n",
    "        sentScore += (df_training_data[feature].values[i] * sent_words_with_scores[feature])\n",
    "    #print(round(sentScore, 2))\n",
    "    sentArray.append(sentScore)\n",
    "    sentScore = 0\n",
    "    check = True\n",
    "    \n",
    "if check:\n",
    "    print('----------------------------')\n",
    "    print('Average Sentiment Score')\n",
    "    print (round(sum(sentArray)/ len(sentArray), 2))\n",
    "      \n",
    "        \n",
    "        \n",
    "# for i in range(0, len(df_training_data)):\n",
    "#     print(df_training_data.iloc[i][0])\n",
    "# for index, row in df_training_data.iterrows():\n",
    "#    print(index, row)\n",
    "\n",
    "#print('number of features after cleaning', len(df_training_data.columns))\n",
    "# for index, feature in enumerate(df_training_data.columns[:len(df_training_data.columns)-1]):\n",
    "#     #print(index, feature)\n",
    "# #     sentScore = (feature * sent_words_with_scores[index])\n",
    "# #     print (sentScore)\n",
    "#  for feature in df_training_data.rows[:len(df_training_data.rows)-1]:\n",
    "#     for column in row:\n",
    "#         sentScore += (feature * sent_words_with_scores[index])\n",
    "# print (sentScore)\n"
   ]
  },
  {
   "cell_type": "code",
   "execution_count": null,
   "metadata": {},
   "outputs": [],
   "source": []
  }
 ],
 "metadata": {
  "kernelspec": {
   "display_name": "Python 3",
   "language": "python",
   "name": "python3"
  },
  "language_info": {
   "codemirror_mode": {
    "name": "ipython",
    "version": 3
   },
   "file_extension": ".py",
   "mimetype": "text/x-python",
   "name": "python",
   "nbconvert_exporter": "python",
   "pygments_lexer": "ipython3",
   "version": "3.6.5"
  }
 },
 "nbformat": 4,
 "nbformat_minor": 2
}
