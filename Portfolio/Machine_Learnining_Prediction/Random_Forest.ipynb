{
 "cells": [
  {
   "cell_type": "code",
   "execution_count": 36,
   "metadata": {},
   "outputs": [],
   "source": [
    "#Loader. Run this + (THis) \n",
    "import numpy as np\n",
    "import pandas as pd\n",
    "from sklearn.metrics import classification_report\n",
    "# Uses the Pandas library to read dataset from a CSV file\n",
    "# and returns feature names, instances and labels\n",
    "def load_data_from_csv(input_csv):\n",
    "    # The read_csv Pandas function loads a csv file into a DataFrame (i.e., df)\n",
    "    # data structure \n",
    "    # the first line of the csv (i.e., header=0) contains headings\n",
    "    df = pd.read_csv(input_csv, header=0) \n",
    "    # store CSV headings into a list\n",
    "    csv_headings = list(df.columns.values) \n",
    "    # the first n-1 items of the csv_headings are the feature names\n",
    "    feature_names = csv_headings[:len(csv_headings) - 1]  \n",
    "    # the last item of the csv_heading is the name of the label\n",
    "    label_name = csv_headings[len(csv_headings) - 1:len(csv_headings)][0] \n",
    "    # get the numeric data of the csv file and store them in a numpy array\n",
    "    df = df._get_numeric_data()\n",
    "    numpy_array = df.as_matrix() \n",
    "    # get number of rows and number of columns from numpy array\n",
    "    number_of_rows, number_of_columns = numpy_array.shape \n",
    "    # n-1 columns of the numpy array correspond to the instances\n",
    "    instances = numpy_array[:, 0:number_of_columns - 1]\n",
    "    # last column of the numpy array corresponds to the labels\n",
    "    labels = []\n",
    "    for label in numpy_array[:, number_of_columns - 1:number_of_columns].tolist():\n",
    "        labels.append(label[0])   \n",
    "    return feature_names, instances, labels"
   ]
  },
  {
   "cell_type": "code",
   "execution_count": null,
   "metadata": {},
   "outputs": [],
   "source": []
  },
  {
   "cell_type": "code",
   "execution_count": 37,
   "metadata": {},
   "outputs": [],
   "source": [
    "from sklearn.ensemble import AdaBoostClassifier\n",
    "def adaboost_classifier(input_training_csv, input_test_csv):\n",
    "    \n",
    "    # load training dataset\n",
    "    training_feature_names, training_instances, training_labels = load_data_from_csv(input_csv=input_training_csv)\n",
    "    test_feature_name, test_instances, test_labels = load_data_from_csv(input_csv=input_test_csv)\n",
    "    #define Majority Vote Classifier\n",
    "    \n",
    "    adb_classifier = AdaBoostClassifier(n_estimators=500)\n",
    "    #train Majority vote classifier\n",
    "    adb_classifier.fit(training_instances, training_labels)\n",
    "    #get predicted labels\n",
    "    predicted_test_labels = adb_classifier.predict(test_instances)\n",
    "    #compute evaluation scores\n",
    "    print(classification_report(test_labels, predicted_test_labels, digits=3))"
   ]
  },
  {
   "cell_type": "code",
   "execution_count": 38,
   "metadata": {},
   "outputs": [
    {
     "name": "stderr",
     "output_type": "stream",
     "text": [
      "C:\\ProgramData\\Anaconda3\\lib\\site-packages\\ipykernel_launcher.py:20: FutureWarning: Method .as_matrix will be removed in a future version. Use .values instead.\n"
     ]
    },
    {
     "name": "stdout",
     "output_type": "stream",
     "text": [
      "             precision    recall  f1-score   support\n",
      "\n",
      "          0      0.000     0.000     0.000         8\n",
      "          1      0.000     0.000     0.000        38\n",
      "          2      0.118     0.227     0.156       119\n",
      "          3      0.000     0.000     0.000        44\n",
      "          4      0.000     0.000     0.000        92\n",
      "          5      0.295     0.162     0.209       235\n",
      "          6      0.000     0.000     0.000       296\n",
      "          7      0.000     0.000     0.000       332\n",
      "          8      0.267     0.387     0.316       719\n",
      "          9      0.123     0.108     0.115       849\n",
      "         10      0.000     0.000     0.000       997\n",
      "         11      0.152     0.049     0.074      1425\n",
      "         12      0.131     0.027     0.044      1807\n",
      "         13      0.344     0.434     0.384      2113\n",
      "         14      0.304     0.660     0.416      2314\n",
      "         15      0.000     0.000     0.000      1068\n",
      "         16      0.000     0.000     0.000       198\n",
      "         17      0.091     0.209     0.126      1374\n",
      "\n",
      "avg / total      0.170     0.234     0.180     14028\n",
      "\n"
     ]
    },
    {
     "name": "stderr",
     "output_type": "stream",
     "text": [
      "C:\\ProgramData\\Anaconda3\\lib\\site-packages\\sklearn\\metrics\\classification.py:1135: UndefinedMetricWarning: Precision and F-score are ill-defined and being set to 0.0 in labels with no predicted samples.\n",
      "  'precision', 'predicted', average, warn_for)\n"
     ]
    }
   ],
   "source": [
    "if __name__ == '__main__':\n",
    "    adaboost_classifier(\n",
    "                       input_training_csv='Z:\\\\My Documents\\\\Year 3\\\\Intelligent Systems\\\\king_rook_vs_king\\\\king_rook_king.training.csv',\n",
    "                       input_test_csv='Z:\\\\My Documents\\\\Year 3\\\\Intelligent Systems\\\\king_rook_vs_king\\\\king_rook_king.test.csv')"
   ]
  },
  {
   "cell_type": "code",
   "execution_count": null,
   "metadata": {},
   "outputs": [],
   "source": []
  }
 ],
 "metadata": {
  "kernelspec": {
   "display_name": "Python 3",
   "language": "python",
   "name": "python3"
  },
  "language_info": {
   "codemirror_mode": {
    "name": "ipython",
    "version": 3
   },
   "file_extension": ".py",
   "mimetype": "text/x-python",
   "name": "python",
   "nbconvert_exporter": "python",
   "pygments_lexer": "ipython3",
   "version": "3.6.5"
  }
 },
 "nbformat": 4,
 "nbformat_minor": 2
}
